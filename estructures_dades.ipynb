{
 "cells": [
  {
   "cell_type": "markdown",
   "metadata": {},
   "source": [
    "# Exercici 1\n",
    "\n",
    "Crea una llista que agrupi els mesos de l’any en trimestres (1T: Gener, Febrer i Març, 2T: Abril, Maig, Juny...), és a dir, una llista amb 4 llistes dins."
   ]
  },
  {
   "cell_type": "code",
   "execution_count": 1,
   "metadata": {},
   "outputs": [],
   "source": [
    "mesos_any_llist = [[\"Gener\",\"Febrer\",\"Març\"],[\"Abril\",\"Maig\",\"Juny\"],[\"Juliol\",\"Agost\",\"Setembre\"],[\"Octubre\",\"Novembre\",\"Desembre\"]];\n",
    "print(mesos_any_llist)"
   ]
  },
  {
   "cell_type": "markdown",
   "metadata": {},
   "source": [
    "# Exercici 2\n",
    "\n",
    "Crea un codi que et permeti accedir a: <br>\n",
    "1- El segon mes del primer trimestre <br>\n",
    "2- Els mesos del primer trimestre <br>\n",
    "3- Setembre i octubre "
   ]
  },
  {
   "cell_type": "code",
   "execution_count": 2,
   "metadata": {},
   "outputs": [
    {
     "name": "stdout",
     "output_type": "stream",
     "text": [
      "1-  Febrer\n",
      "2-  ['Gener', 'Febrer', 'Març']\n",
      "3-  Setembre Octubre\n"
     ]
    }
   ],
   "source": [
    "print('1- ', mesos_any_llist[0][1])\n",
    "print('2- ', mesos_any_llist[0][0:3])\n",
    "print('3- ', mesos_any_llist[2][2], mesos_any_llist[3][0])"
   ]
  },
  {
   "cell_type": "markdown",
   "metadata": {},
   "source": [
    "# Exercici 3\n",
    "\n",
    "Crea una llista amb nombres desordenats i respon a les següents preguntes:\n",
    "\n",
    "1- Quants números hi ha? <br>\n",
    "2- Quantes vegades apareix el número 3 <br>\n",
    "3- Quantes vegades apareixen els nombres 3 i 4? <br>\n",
    "4- Quin és el número més gran? <br>\n",
    "5- Quins són els 3 números més petits? <br>\n",
    "6- Quin és el rang d’aquesta llista? <br>"
   ]
  },
  {
   "cell_type": "code",
   "execution_count": 3,
   "metadata": {},
   "outputs": [
    {
     "name": "stdout",
     "output_type": "stream",
     "text": [
      "Enter the element's number of the list:\n",
      "* List:  [9, 7, 0, 0, 1, 8, 3, 4, 2, 7]\n",
      "1- Lenght of the list:  10\n",
      "2- Number of elements '3':  1\n",
      "3- Number of times it appears (3,4):  0\n",
      "4- Maximum Number:  9\n",
      "5- Smallest three numbers are: 0 0 1\n",
      "6- Range of the list is: (0, 9)\n"
     ]
    }
   ],
   "source": [
    "import random\n",
    "\n",
    "random_list = []\n",
    "print('Enter the element\\'s number of the list:')\n",
    "#x = input()\n",
    "x = 10\n",
    "# Set a length of the list to x\n",
    "for i in range(0, int(x)):\n",
    "    # any random numbers from 0 to 100\n",
    "    random_list.append(random.randint(0, 10))\n",
    "print('* List: ',random_list)\n",
    "print('1- Lenght of the list: ', len(random_list))\n",
    "print('2- Number of elements \\'3\\': ', random_list.count(3))\n",
    "print('3- Number of times it appears (3,4): ', random_list.count((3,4)))\n",
    "print('4- Maximum Number: ', max(random_list))\n",
    "# sorting the list\n",
    "random_list.sort()\n",
    "# printing the three elements\n",
    "print(\"5- Smallest three numbers are:\", *random_list[:3])\n",
    "range_list = []\n",
    "min_val = min(random_list)\n",
    "max_val = max(random_list)\n",
    "range_list = (min_val, max_val)\n",
    "print(\"6- Range of the list is:\", range_list)"
   ]
  },
  {
   "cell_type": "markdown",
   "metadata": {},
   "source": [
    "# Exercici 4\n",
    "\n",
    "Crea un diccionari de la següent forma i respon a les preguntes:\n",
    "\n",
    "``compra = { \"Pomes\" : {\"Qty\": 5, \"€\": 0.42}, \"Peres\" : {\"Qty\": 3, \"€\": 0.66} }``\n",
    "\n",
    "1- Afegeix alguna fruita més <br>\n",
    "2- Quant han costat les peres en total? <br>\n",
    "3- Quantes fruites hem comprat en total? <br>\n",
    "4- Quina és la fruita més cara?"
   ]
  },
  {
   "cell_type": "code",
   "execution_count": 4,
   "metadata": {},
   "outputs": [
    {
     "name": "stdout",
     "output_type": "stream",
     "text": [
      "1- Add Cherry:  {'Pomes': {'Qty': 5, '€': 0.42}, 'Peres': {'Qty': 3, '€': 0.66}, 'Cireras': {'Qty': 4, '€': 0.99}}\n",
      "2- Cost of pears:  1.98\n",
      "3- a) Quantity of fruits:  12\n",
      "3- b) Quantity of fruits (another way): 12\n",
      "4- Maximum price 0.99\n"
     ]
    }
   ],
   "source": [
    "from operator import itemgetter\n",
    "\n",
    "compra = { \"Pomes\" : {\"Qty\": 5, \"€\": 0.42}, \"Peres\" : {\"Qty\": 3, \"€\": 0.66} }\n",
    "#print(compra)\n",
    "#compra[\"Cireras\"] = {\"Qty\": 4, \"€\": 0.99}\n",
    "compra.update({'Cireras':{\"Qty\": 4, \"€\": 0.99}})\n",
    "print(\"1- Add Cherry: \", compra)\n",
    "Peres = compra.get(\"Peres\")\n",
    "#print(Peres)\n",
    "Qty_Peres = Peres.get(\"Qty\")\n",
    "#print('Quantity of Peres: ', quantity)\n",
    "Price_Peres = Peres.get(\"€\")\n",
    "#print('Price of Peres: ', price)\n",
    "print('2- Cost of pears: ', Qty_Peres * Price_Peres)\n",
    "\n",
    "Pomes = compra.get(\"Pomes\")\n",
    "Cireras = compra.get(\"Cireras\")\n",
    "Qty_Pomes = Pomes.get(\"Qty\")\n",
    "Qty_Cireras = Cireras.get(\"Qty\")\n",
    "print('3- a) Quantity of fruits: ', Qty_Peres + Qty_Pomes + Qty_Cireras)\n",
    "#keys = compra.keys()\n",
    "#print(keys)\n",
    "values = compra.values()\n",
    "#print(values)\n",
    "quantity = [ sub['Qty'] for sub in values ]\n",
    "#quantity = list(map(itemgetter('Qty'), values))\n",
    "#print(quantity)\n",
    "sum = 0\n",
    "for x in quantity:\n",
    "    sum += x\n",
    "print('3- b) Quantity of fruits (another way):', sum)\n",
    "#items = compra.items()\n",
    "#print(items)\n",
    "price = [ sub['€'] for sub in values ]\n",
    "max = max(price)\n",
    "print('4- Maximum price', max)"
   ]
  },
  {
   "cell_type": "code",
   "execution_count": null,
   "metadata": {},
   "outputs": [],
   "source": []
  }
 ],
 "metadata": {
  "kernelspec": {
   "display_name": "Python 3",
   "language": "python",
   "name": "python3"
  },
  "language_info": {
   "codemirror_mode": {
    "name": "ipython",
    "version": 3
   },
   "file_extension": ".py",
   "mimetype": "text/x-python",
   "name": "python",
   "nbconvert_exporter": "python",
   "pygments_lexer": "ipython3",
   "version": "3.9.2"
  },
  "latex_envs": {
   "LaTeX_envs_menu_present": true,
   "autoclose": false,
   "autocomplete": true,
   "bibliofile": "biblio.bib",
   "cite_by": "apalike",
   "current_citInitial": 1,
   "eqLabelWithNumbers": true,
   "eqNumInitial": 1,
   "hotkeys": {
    "equation": "Ctrl-E",
    "itemize": "Ctrl-I"
   },
   "labels_anchors": false,
   "latex_user_defs": false,
   "report_style_numbering": false,
   "user_envs_cfg": false
  }
 },
 "nbformat": 4,
 "nbformat_minor": 4
}
